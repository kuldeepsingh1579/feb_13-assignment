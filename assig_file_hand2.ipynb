{
 "cells": [
  {
   "cell_type": "raw",
   "id": "73725724-b699-466f-8aef-1515a6681ab9",
   "metadata": {},
   "source": [
    "Question-no.1\n",
    "\n",
    "When creating custom exceptions in a programming language, it is essential to use the Exception class as a base for your custom exception. The Exception class is typically provided by the language or framework and serves as a blueprint for all standard and user-defined exceptions. It represents the general idea of an error or exceptional situation that can occur during the execution of a program.\n",
    "For Example-->"
   ]
  },
  {
   "cell_type": "code",
   "execution_count": 3,
   "id": "bccb719c-1945-4523-a46e-24dce9ec3424",
   "metadata": {},
   "outputs": [
    {
     "name": "stdout",
     "output_type": "stream",
     "text": [
      "Error: Division by zero is not allowed.\n"
     ]
    }
   ],
   "source": [
    "class CustomError(Exception):\n",
    "    def __init__(self, message):\n",
    "        super().__init__(message)\n",
    "\n",
    "def divide(a, b):\n",
    "    if b == 0:\n",
    "        raise CustomError(\"Division by zero is not allowed.\")\n",
    "    return a / b\n",
    "\n",
    "try:\n",
    "    result = divide(10, 0)\n",
    "except CustomError as ce:\n",
    "    print(\"Error:\", ce)\n"
   ]
  },
  {
   "cell_type": "raw",
   "id": "713645a1-90af-4a9e-83b1-e120752ef1e7",
   "metadata": {},
   "source": [
    "Question-No.2\n",
    "\n",
    "Program to print python exception hierarchy--"
   ]
  },
  {
   "cell_type": "raw",
   "id": "0f87e9ed-626e-454a-b298-f974f7b2cc5e",
   "metadata": {},
   "source": [
    "def exception_hierarchy(exception_class, indent=0):\n",
    "    print(\"  \" * indent + exception_class.__name__)\n",
    "    for subclass in exception_class.__subclasses__():\n",
    "        exception_hierarchy(subclass, indent + 1)\n",
    "\n",
    "if __name__ == \"__main__\":\n",
    "    print(\"Python Exception Hierarchy:\")\n",
    "    exception_hierarchy(BaseException)"
   ]
  },
  {
   "cell_type": "raw",
   "id": "c6294eb2-805c-4280-9d32-3703ae318f99",
   "metadata": {},
   "source": [
    "Question-No.3\n",
    "\n",
    "The 'ArithmeticError' class is a base class for arithmetic-related exceptions in Python. It represents errors that can occur during arithmetic operations.\n",
    "Some of the errors defined in the 'ArithmeticError' class are:-\n",
    "\n",
    "1- floatingPointError\n",
    "2-ZeroDivisionError\n",
    "3-OverFlowError"
   ]
  },
  {
   "cell_type": "raw",
   "id": "cf9b2b7f-dd1d-442c-924f-67b4849a01a6",
   "metadata": {},
   "source": [
    "Question-No.4\n",
    "\n",
    "The 'LookupError' class is used as a base class for exceptions that occur when a lookup or index operation fails. It serves as a superclass for several specific lookup-related exceptions in Python. When you want to catch exceptions related to lookup operations, you can catch 'LookupError'  and it will handle any of its subclasses as well."
   ]
  },
  {
   "cell_type": "code",
   "execution_count": 11,
   "id": "49880302-4c7d-4385-9ead-453c66777c5a",
   "metadata": {},
   "outputs": [
    {
     "name": "stdout",
     "output_type": "stream",
     "text": [
      "Error: 'grapes'\n",
      "Error: list index out of range\n"
     ]
    }
   ],
   "source": [
    "# KeyError\n",
    "\n",
    "my_dict = {\"apple\": 1, \"banana\": 2, \"orange\": 3}\n",
    "\n",
    "try:\n",
    "    value = my_dict[\"grapes\"]\n",
    "except KeyError as e:\n",
    "    print(\"Error:\", e)\n",
    "\n",
    "# IndexError\n",
    "my_list = [1, 2, 3]\n",
    "\n",
    "try:\n",
    "    value = my_list[5]\n",
    "except IndexError as e:\n",
    "    print(\"Error:\", e)\n"
   ]
  },
  {
   "cell_type": "raw",
   "id": "b286a369-2cbe-4028-9482-da41d955f787",
   "metadata": {},
   "source": [
    "Question-No.5\n",
    "\n",
    "'ImportError' is a built-in exception in Python that is raised when an import statement fails to import a module or a specific attribute from a module. It is a common exception encountered when dealing with importing modules in Python.\n",
    "\n",
    "ModuleNotFoundError: This occurs when Python cannot find the specified module in the search path."
   ]
  }
 ],
 "metadata": {
  "kernelspec": {
   "display_name": "Python 3 (ipykernel)",
   "language": "python",
   "name": "python3"
  },
  "language_info": {
   "codemirror_mode": {
    "name": "ipython",
    "version": 3
   },
   "file_extension": ".py",
   "mimetype": "text/x-python",
   "name": "python",
   "nbconvert_exporter": "python",
   "pygments_lexer": "ipython3",
   "version": "3.10.8"
  }
 },
 "nbformat": 4,
 "nbformat_minor": 5
}
